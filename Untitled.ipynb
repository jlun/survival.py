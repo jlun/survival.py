{
 "cells": [
  {
   "cell_type": "code",
   "execution_count": 4,
   "metadata": {
    "collapsed": false
   },
   "outputs": [
    {
     "name": "stdout",
     "output_type": "stream",
     "text": [
      "Observed lifetimes at time 10:\n",
      "[  5.80870033   2.70843673  10.           3.03353536   0.95533437  10.\n",
      "   2.34287445  10.           6.37003751   0.75702551   1.03253243\n",
      "   5.36060424   0.72246092   0.14627066   0.02755212  10.           2.02547262\n",
      "   4.10534922   1.35665331   8.12927173   6.49797102  10.          10.\n",
      "   2.17908981   1.58574369]\n"
     ]
    }
   ],
   "source": [
    "import numpy as np\n",
    "import pandas as pd\n",
    "from matplotlib import pyplot as plt\n",
    "from lifelines.plotting import plot_lifetimes\n",
    "from numpy.random import uniform, exponential\n",
    "\n",
    "N = 25\n",
    "current_time = 10\n",
    "actual_lifetimes = np.array([[exponential(12), exponential(2)][uniform()<0.5] for i in range(N)])\n",
    "observed_lifetimes = np.minimum(actual_lifetimes,current_time)\n",
    "observed= actual_lifetimes < current_time\n",
    "\n",
    "plt.xlim(0,25)\n",
    "plt.vlines(10,0,30,lw=2, linestyles=\"--\")\n",
    "plt.xlabel('time')\n",
    "plt.title('Births and deaths of our population, at $t=10$')\n",
    "plot_lifetimes(observed_lifetimes, event_observed=observed)\n",
    "print \"Observed lifetimes at time %d:\\n\"%(current_time), observed_lifetimes"
   ]
  },
  {
   "cell_type": "code",
   "execution_count": 5,
   "metadata": {
    "collapsed": true
   },
   "outputs": [],
   "source": [
    "plt.xlim(0,25)\n",
    "plt.vlines(10,0,30,lw=2,linestyles=\"--\")\n",
    "plot_lifetimes(actual_lifetimes, event_observed=observed)"
   ]
  },
  {
   "cell_type": "code",
   "execution_count": null,
   "metadata": {
    "collapsed": true
   },
   "outputs": [],
   "source": []
  }
 ],
 "metadata": {
  "kernelspec": {
   "display_name": "Python 2",
   "language": "python",
   "name": "python2"
  },
  "language_info": {
   "codemirror_mode": {
    "name": "ipython",
    "version": 2
   },
   "file_extension": ".py",
   "mimetype": "text/x-python",
   "name": "python",
   "nbconvert_exporter": "python",
   "pygments_lexer": "ipython2",
   "version": "2.7.10"
  }
 },
 "nbformat": 4,
 "nbformat_minor": 0
}

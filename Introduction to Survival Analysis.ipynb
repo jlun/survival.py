{
 "cells": [
  {
   "cell_type": "code",
   "execution_count": 1,
   "metadata": {
    "collapsed": true
   },
   "outputs": [],
   "source": [
    "import numpy as np\n",
    "from matplotlib import pyplot as plt"
   ]
  },
  {
   "cell_type": "code",
   "execution_count": null,
   "metadata": {
    "collapsed": false
   },
   "outputs": [],
   "source": [
    "from lifelines.plotting import plot_lifetimes\n",
    "from numpy.random import uniform, exponential\n",
    "\n",
    "N = 25\n",
    "current_time = 10\n",
    "actual_lifetimes = np.array([[exponential(12), exponential(2)][uniform()<0.5] for i in range(N)])\n",
    "observed_lifetimes = np.minimum(actual_lifetimes,current_time)\n",
    "observed= actual_lifetimes < current_time\n",
    "\n",
    "plt.xlim(0,25)\n",
    "plt.vlines(10,0,30,lw=2, linestyles=\"--\")\n",
    "plt.xlabel('time')\n",
    "plt.title('Births and deaths of our population, at $t=10$')\n",
    "plot_lifetimes(observed_lifetimes, event_observed=observed)\n",
    "print \"Observed lifetimes at time %d:\\n\"%(current_time), observed_lifetimes"
   ]
  },
  {
   "cell_type": "code",
   "execution_count": 3,
   "metadata": {
    "collapsed": true
   },
   "outputs": [],
   "source": [
    "plt.xlim(0,25)\n",
    "plt.vlines(10,0,30,lw=2,linestyles=\"--\")\n",
    "plot_lifetimes(actual_lifetimes, event_observed=observed)"
   ]
  },
  {
   "cell_type": "code",
   "execution_count": null,
   "metadata": {
    "collapsed": true
   },
   "outputs": [],
   "source": [
    "#Estimating the Survival function using Kaplan-Meier"
   ]
  },
  {
   "cell_type": "code",
   "execution_count": null,
   "metadata": {
    "collapsed": true
   },
   "outputs": [],
   "source": [
    "import pandas as pd\n",
    "import lifelines\n",
    "\n",
    "data = lifelines.datasets.load_dd()"
   ]
  },
  {
   "cell_type": "code",
   "execution_count": null,
   "metadata": {
    "collapsed": true
   },
   "outputs": [],
   "source": [
    "from lifelines import KaplanMeierFitter\n",
    "kmf = KaplanMeierFitter()"
   ]
  },
  {
   "cell_type": "code",
   "execution_count": null,
   "metadata": {
    "collapsed": false
   },
   "outputs": [],
   "source": [
    "T = data[\"duration\"]\n",
    "C = data[\"observed\"]\n",
    "\n",
    "kmf.fit(T, event_observed=C )"
   ]
  },
  {
   "cell_type": "code",
   "execution_count": null,
   "metadata": {
    "collapsed": true
   },
   "outputs": [],
   "source": [
    "kmf.survival_function_.plot()\n",
    "plt.title('Survival function of political regimes');"
   ]
  },
  {
   "cell_type": "code",
   "execution_count": null,
   "metadata": {
    "collapsed": false
   },
   "outputs": [],
   "source": [
    "kmf.plot()"
   ]
  },
  {
   "cell_type": "code",
   "execution_count": null,
   "metadata": {
    "collapsed": true
   },
   "outputs": [],
   "source": []
  }
 ],
 "metadata": {
  "kernelspec": {
   "display_name": "Python 2",
   "language": "python",
   "name": "python2"
  },
  "language_info": {
   "codemirror_mode": {
    "name": "ipython",
    "version": 2
   },
   "file_extension": ".py",
   "mimetype": "text/x-python",
   "name": "python",
   "nbconvert_exporter": "python",
   "pygments_lexer": "ipython2",
   "version": "2.7.10"
  }
 },
 "nbformat": 4,
 "nbformat_minor": 0
}

{
 "cells": [
  {
   "cell_type": "code",
   "execution_count": 1,
   "metadata": {
    "collapsed": false
   },
   "outputs": [
    {
     "name": "stdout",
     "output_type": "stream",
     "text": [
      "                           Results: PHReg\n",
      "====================================================================\n",
      "Model:                      PH Reg         Sample size:         6524\n",
      "Dependent variable:         futime         Num. events:         1962\n",
      "Ties:                       Efron                                   \n",
      "--------------------------------------------------------------------\n",
      "                log HR log HR SE   HR      t    P>|t|  [0.025 0.975]\n",
      "--------------------------------------------------------------------\n",
      "age             0.1012    0.0025 1.1065 40.9289 0.0000 1.1012 1.1119\n",
      "female         -0.2817    0.0474 0.7545 -5.9368 0.0000 0.6875 0.8280\n",
      "creatinine      0.0134    0.0411 1.0135  0.3271 0.7436 0.9351 1.0985\n",
      "np.sqrt(kappa)  0.4047    0.1147 1.4988  3.5288 0.0004 1.1971 1.8766\n",
      "np.sqrt(lam)    0.7046    0.1117 2.0230  6.3056 0.0000 1.6251 2.5183\n",
      "year            0.0477    0.0192 1.0489  2.4902 0.0128 1.0102 1.0890\n",
      "mgus            0.3160    0.2532 1.3717  1.2479 0.2121 0.8350 2.2532\n",
      "====================================================================\n",
      "Confidence intervals are for the hazard ratios\n"
     ]
    }
   ],
   "source": [
    "import statsmodels.api as sm\n",
    "import statsmodels.formula.api as smf\n",
    "\n",
    "data = sm.datasets.get_rdataset(\"flchain\", \"survival\").data\n",
    "del data[\"chapter\"]\n",
    "data = data.dropna()\n",
    "data[\"lam\"] = data[\"lambda\"]\n",
    "data[\"female\"] = (data[\"sex\"] == \"F\").astype(int)\n",
    "data[\"year\"] = data[\"sample.yr\"] - min(data[\"sample.yr\"])\n",
    "status = data[\"death\"].values\n",
    "\n",
    "mod = smf.phreg(\"futime ~ 0 + age + female + creatinine + \"\n",
    "                \"np.sqrt(kappa) + np.sqrt(lam) + year + mgus\",\n",
    "                data, status=status, ties=\"efron\")\n",
    "rslt = mod.fit()\n",
    "print(rslt.summary())\n"
   ]
  },
  {
   "cell_type": "code",
   "execution_count": null,
   "metadata": {
    "collapsed": true
   },
   "outputs": [],
   "source": []
  }
 ],
 "metadata": {
  "kernelspec": {
   "display_name": "Python 2",
   "language": "python",
   "name": "python2"
  },
  "language_info": {
   "codemirror_mode": {
    "name": "ipython",
    "version": 2
   },
   "file_extension": ".py",
   "mimetype": "text/x-python",
   "name": "python",
   "nbconvert_exporter": "python",
   "pygments_lexer": "ipython2",
   "version": "2.7.10"
  }
 },
 "nbformat": 4,
 "nbformat_minor": 0
}
